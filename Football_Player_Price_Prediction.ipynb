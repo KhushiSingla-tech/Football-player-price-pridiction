{
  "nbformat": 4,
  "nbformat_minor": 0,
  "metadata": {
    "colab": {
      "name": "Football Player Price Prediction.ipynb",
      "provenance": [],
      "collapsed_sections": [],
      "authorship_tag": "ABX9TyNa5BxB8Cch2DgOzWl6H9pI"
    },
    "kernelspec": {
      "name": "python3",
      "display_name": "Python 3"
    },
    "language_info": {
      "name": "python"
    }
  },
  "cells": [
    {
      "cell_type": "markdown",
      "metadata": {
        "id": "nFbyBZK9rzL3"
      },
      "source": [
        "Libraries"
      ]
    },
    {
      "cell_type": "code",
      "metadata": {
        "id": "dz-JZF-yeOPr"
      },
      "source": [
        "import numpy as np \n",
        "import matplotlib.pyplot as plt \n",
        "import pandas as pd\n",
        "import seaborn as sns"
      ],
      "execution_count": null,
      "outputs": []
    },
    {
      "cell_type": "markdown",
      "metadata": {
        "id": "NOMJuE65d4kM"
      },
      "source": [
        "**Using Seaborn Visualization**"
      ]
    },
    {
      "cell_type": "code",
      "metadata": {
        "id": "OS0DFUB2dd8o"
      },
      "source": [
        "dataset = pd.read_csv('data.csv')"
      ],
      "execution_count": null,
      "outputs": []
    },
    {
      "cell_type": "code",
      "metadata": {
        "id": "qWjWAVfXwqGa"
      },
      "source": [
        "data_head = dataset.head()\n",
        "data_head"
      ],
      "execution_count": null,
      "outputs": []
    },
    {
      "cell_type": "code",
      "metadata": {
        "id": "G3Kgt0sLxK0U"
      },
      "source": [
        "dataset.columns"
      ],
      "execution_count": null,
      "outputs": []
    },
    {
      "cell_type": "code",
      "metadata": {
        "id": "Sild5IWB7a1Q"
      },
      "source": [
        "dataset.describe()"
      ],
      "execution_count": null,
      "outputs": []
    },
    {
      "cell_type": "code",
      "metadata": {
        "id": "BDnWmYuuxRA7"
      },
      "source": [
        "dataset.shape"
      ],
      "execution_count": null,
      "outputs": []
    },
    {
      "cell_type": "code",
      "metadata": {
        "id": "L1n_VHvJ71SW"
      },
      "source": [
        "dataset.dtypes"
      ],
      "execution_count": null,
      "outputs": []
    },
    {
      "cell_type": "code",
      "metadata": {
        "id": "aXdcZJCixZlU"
      },
      "source": [
        "dataset['nationality'].value_counts()"
      ],
      "execution_count": null,
      "outputs": []
    },
    {
      "cell_type": "code",
      "metadata": {
        "id": "uJmNQxf8xnY6"
      },
      "source": [
        "plt.figure(figsize=(10,6))\n",
        "graph = sns.barplot(x = 'name', y = 'age', data = dataset[:50], palette=\"rocket\")\n",
        "graph.set(xlabel =\"Name\", ylabel = \"Age\", title = \"Name VS Age\")\n",
        "graph.set_xticklabels(graph.get_xticklabels(), rotation = 90)\n",
        "sns.set_context('talk')\n",
        "sns.despine()\n",
        "plt.show()"
      ],
      "execution_count": null,
      "outputs": []
    },
    {
      "cell_type": "code",
      "metadata": {
        "id": "qBLkIeyNxLjO"
      },
      "source": [
        "plt.figure(figsize=(10,6))\n",
        "graph = sns.countplot(x = 'club', data = dataset, palette=\"vlag\")\n",
        "graph.set(xlabel =\"Club\", ylabel = \"Member\", title = \"Members per club\")\n",
        "graph.set_xticklabels(graph.get_xticklabels(), rotation = 90)\n",
        "sns.set_context('talk')\n",
        "sns.despine()\n",
        "plt.show()"
      ],
      "execution_count": null,
      "outputs": []
    },
    {
      "cell_type": "code",
      "metadata": {
        "id": "RysbrD_P7RGI"
      },
      "source": [
        "plt.figure(figsize=(16,6))\n",
        "graph = sns.barplot(x='name', y='market_value',data = dataset[:50],palette=\"colorblind\")\n",
        "graph.set(xlabel =\"Name\", ylabel = \"Market Value\", title = \"Name VS Market Value\")\n",
        "graph.set_xticklabels(graph.get_xticklabels(), rotation = 90)\n",
        "sns.despine()\n",
        "sns.set_context('notebook')\n",
        "plt.show()"
      ],
      "execution_count": null,
      "outputs": []
    },
    {
      "cell_type": "code",
      "metadata": {
        "id": "SE1kBqCwApnp"
      },
      "source": [
        "plt.figure(figsize=(16,6))\n",
        "graph = sns.pointplot(x='name', y='position_cat',data = dataset[:50],palette=\"deep\")\n",
        "graph.set(xlabel =\"Name\", ylabel = \"Position category\", title = \"Name VS Position Category\")\n",
        "graph.set_xticklabels(graph.get_xticklabels(), rotation = 90)\n",
        "sns.despine()\n",
        "sns.set_context('talk')\n",
        "plt.show()"
      ],
      "execution_count": null,
      "outputs": []
    },
    {
      "cell_type": "code",
      "metadata": {
        "id": "M438Poip_bv8"
      },
      "source": [
        "plt.figure(figsize=(16,6))\n",
        "graph = sns.pointplot(x='name', y='region',data = dataset[:50], palette=\"rocket\")\n",
        "graph.set(xlabel =\"Name\", ylabel = \"Region\", title = \"Name VS Region\")\n",
        "graph.set_xticklabels(graph.get_xticklabels(), rotation = 90)\n",
        "sns.despine()\n",
        "sns.set_context('poster')\n",
        "plt.show()"
      ],
      "execution_count": null,
      "outputs": []
    },
    {
      "cell_type": "code",
      "metadata": {
        "id": "BvxfyTzeE7dL"
      },
      "source": [
        "plt.figure(figsize=(20, 6))\n",
        "graph = sns.countplot(x='nationality',data = dataset,palette=\"muted\")\n",
        "graph.set(xlabel =\"Nationality\", ylabel = \"Players\", title = \"No. of players amoung different nationality\")\n",
        "graph.set_xticklabels(graph.get_xticklabels(), rotation = 90)\n",
        "sns.despine()\n",
        "sns.set_context('paper')\n",
        "plt.show()"
      ],
      "execution_count": null,
      "outputs": []
    },
    {
      "cell_type": "code",
      "metadata": {
        "id": "kRMb4lx5IX9I"
      },
      "source": [
        "graph = sns.countplot(x='region',data = dataset,palette=\"vlag\")\n",
        "graph.set(xlabel =\"Region\", ylabel = \"Players\", title = \"No. of players amoung various regions\")\n",
        "sns.despine()\n",
        "sns.set_context('paper')\n",
        "plt.show()"
      ],
      "execution_count": null,
      "outputs": []
    },
    {
      "cell_type": "code",
      "metadata": {
        "id": "WTEw6LT4JmD4"
      },
      "source": [
        "plt.figure(figsize=(16, 6))\n",
        "graph = sns.barplot(x='name', y='fpl_points',data = dataset[:50],palette=\"pastel\")\n",
        "graph.set(xlabel =\"Name\", ylabel = \"FPL Points\", title = \"Name VS FPL points\")\n",
        "graph.set_xticklabels(graph.get_xticklabels(), rotation = 90)\n",
        "sns.despine()\n",
        "sns.set_context('poster')\n",
        "plt.show()"
      ],
      "execution_count": null,
      "outputs": []
    },
    {
      "cell_type": "code",
      "metadata": {
        "id": "3eC9zrOpKiFZ"
      },
      "source": [
        "plt.figure(figsize=(16, 6))\n",
        "graph = sns.pointplot(x='name', y='fpl_value',data = dataset[:50],palette=\"dark\")\n",
        "graph.set(xlabel =\"Name\", ylabel = \"FPL Value\", title = \"Name VS FPL value\")\n",
        "graph.set_xticklabels(graph.get_xticklabels(), rotation = 90)\n",
        "sns.despine()\n",
        "sns.set_context('notebook')\n",
        "plt.show()"
      ],
      "execution_count": null,
      "outputs": []
    },
    {
      "cell_type": "code",
      "metadata": {
        "id": "ZmUnXG1IvESq"
      },
      "source": [
        "graph = sns.countplot(x='new_foreign',data = dataset,palette=\"dark\")\n",
        "graph.set(xlabel =\"New Foreign\", ylabel = \"Amount\", title = \"How many are  new signing from a different league\")\n",
        "sns.despine()\n",
        "sns.set_context('notebook')\n",
        "plt.show()"
      ],
      "execution_count": null,
      "outputs": []
    },
    {
      "cell_type": "code",
      "metadata": {
        "id": "n9MxKoShuPF9"
      },
      "source": [
        "plt.figure(figsize=(20, 6))\n",
        "graph = sns.pointplot(x='name', y='new_foreign',data = dataset[:100],palette=\"dark\")\n",
        "graph.set(xlabel =\"Name\", ylabel = \"New Foreign\", title = \"Whether a new signing from a different league\")\n",
        "graph.set_xticklabels(graph.get_xticklabels(), rotation = 90)\n",
        "sns.despine()\n",
        "sns.set_context('notebook')\n",
        "plt.show()"
      ],
      "execution_count": null,
      "outputs": []
    },
    {
      "cell_type": "code",
      "metadata": {
        "id": "yrJ297IlwTdR"
      },
      "source": [
        "graph = sns.countplot(x='new_signing',data = dataset,palette=\"rocket\")\n",
        "graph.set(xlabel =\"New Signing\", ylabel = \"Amount\", title = \"How many are new signing \")\n",
        "sns.despine()\n",
        "sns.set_context('notebook')\n",
        "plt.show()"
      ],
      "execution_count": null,
      "outputs": []
    },
    {
      "cell_type": "code",
      "metadata": {
        "id": "CkwqU_-ewm8Q"
      },
      "source": [
        "plt.figure(figsize=(20, 6))\n",
        "graph = sns.pointplot(x='name', y='new_signing',data = dataset[:100],palette=\"bright\")\n",
        "graph.set(xlabel =\"Name\", ylabel = \"New Signing\", title = \"Whether a new signing\")\n",
        "graph.set_xticklabels(graph.get_xticklabels(), rotation = 90)\n",
        "sns.despine()\n",
        "sns.set_context('notebook')\n",
        "plt.show()"
      ],
      "execution_count": null,
      "outputs": []
    },
    {
      "cell_type": "markdown",
      "metadata": {
        "id": "xbyLeeoleGzy"
      },
      "source": [
        "**Linear Regression Model**"
      ]
    },
    {
      "cell_type": "markdown",
      "metadata": {
        "id": "u0JzVQVbr1yM"
      },
      "source": [
        "Dataset"
      ]
    },
    {
      "cell_type": "code",
      "metadata": {
        "id": "m56MgwWfeKfJ"
      },
      "source": [
        "dataset = pd.read_csv('data.csv') \n",
        "X = dataset[['age', 'fpl_value', 'fpl_points']]\n",
        "Y = dataset['market_value']"
      ],
      "execution_count": null,
      "outputs": []
    },
    {
      "cell_type": "markdown",
      "metadata": {
        "id": "0aEBjLMUr4pc"
      },
      "source": [
        "Dividing into the training and testing set"
      ]
    },
    {
      "cell_type": "code",
      "metadata": {
        "id": "D0GdeAg9eove"
      },
      "source": [
        "from sklearn.model_selection import train_test_split \n",
        "X_train, X_test, Y_train, Y_test = train_test_split(X, Y, test_size = 0.2, random_state = 0)"
      ],
      "execution_count": null,
      "outputs": []
    },
    {
      "cell_type": "markdown",
      "metadata": {
        "id": "FVi4StX9r7Bs"
      },
      "source": [
        "Scaling"
      ]
    },
    {
      "cell_type": "code",
      "metadata": {
        "id": "F8aaR-vCeyvL"
      },
      "source": [
        "from sklearn.preprocessing import StandardScaler \n",
        "sc_X = StandardScaler() \n",
        "X_train = sc_X.fit_transform(X_train) \n",
        "X_test = sc_X.transform(X_test)"
      ],
      "execution_count": null,
      "outputs": []
    },
    {
      "cell_type": "markdown",
      "metadata": {
        "id": "QqtX-tcGr9cC"
      },
      "source": [
        "Fitting Multiple Linear Regression to the Training set"
      ]
    },
    {
      "cell_type": "code",
      "metadata": {
        "id": "qLeF2V23e4gG"
      },
      "source": [
        "from sklearn.linear_model import LinearRegression \n",
        "regressor = LinearRegression() \n",
        "regressor.fit(X_train, Y_train)"
      ],
      "execution_count": null,
      "outputs": []
    },
    {
      "cell_type": "markdown",
      "metadata": {
        "id": "SR9fivc8sBoG"
      },
      "source": [
        "Test set results"
      ]
    },
    {
      "cell_type": "code",
      "metadata": {
        "id": "lkOQCLbDe_8I"
      },
      "source": [
        "Y_pred = regressor.predict(X_test)"
      ],
      "execution_count": null,
      "outputs": []
    },
    {
      "cell_type": "markdown",
      "metadata": {
        "id": "btqlTzIzsD4Z"
      },
      "source": [
        "Overall results"
      ]
    },
    {
      "cell_type": "code",
      "metadata": {
        "id": "mir81S-JfCPs"
      },
      "source": [
        "X1 = sc_X.transform(X) \n",
        "Y_pred1 = regressor.predict(X1)"
      ],
      "execution_count": null,
      "outputs": []
    },
    {
      "cell_type": "code",
      "metadata": {
        "id": "gv05W7YCqkYa"
      },
      "source": [
        "from sklearn.model_selection import cross_val_score \n",
        "accuracy = cross_val_score(estimator = regressor, X = X_train, y = Y_train, cv = 10) \n",
        "print(accuracy.mean())\n",
        "print(accuracy.std())"
      ],
      "execution_count": null,
      "outputs": []
    }
  ]
}